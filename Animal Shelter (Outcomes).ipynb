{
 "cells": [
  {
   "cell_type": "markdown",
   "id": "7338470f",
   "metadata": {},
   "source": [
    "# Austin Animal Center Shelter Intakes and Outcomes\n",
    "\n",
    "## About Dataset\n",
    "\n",
    "### Context\n",
    "The [Austin Animal Center](https://www.austintexas.gov/austin-animal-center) is the largest no-kill animal shelter in the United States that provides care and shelter to over 18,000 animals each year. As part of the AAC's efforts to help and care for animals in need, the organization makes available its accumulated data and statistics as part of the city of Austin's Open Data Initiative.\n",
    "\n",
    "### Content\n",
    "The data contains intakes and outcomes of animals entering the Austin Animal Center from the beginning of October 2013 to the present day. The datasets are also freely available on the Socrata Open Data Access API and are updated daily.\n",
    "\n",
    "The following are links to the datasets hosted on Socrata's Open Data:\n",
    "\n",
    "- [Austin Animal Center Intakes](https://data.austintexas.gov/Health-and-Community-Services/Austin-Animal-Center-Intakes/wter-evkm)\n",
    "- [Austin Animal Center Outcomes](https://data.austintexas.gov/Health-and-Community-Services/Austin-Animal-Center-Outcomes/9t4d-g238)\n",
    "\n",
    "The data contained in this dataset is the outcomes and intakes data as noted above, as well as a combined dataset. The merging of the outcomes and intakes data was done on a unique key that is a combination of the given Animal ID and the intake number. Several of the animals in the dataset have been taken into the shelter multiple times, which creates duplicate Animal IDs that causes problems when merging the two datasets.\n",
    "\n",
    "Copied from the description of the Shelter Outcomes dataset, here are some definitions of the outcome types:\n",
    "\n",
    "- Adoption\n",
    "    - the animal was adopted to a home\n",
    "- Barn Adoption\n",
    "    - the animal was adopted to live in a barn\n",
    "- Offsite Missing\n",
    "    - the animal went missing for unknown reasons at an offsite partner location\n",
    "- In-Foster Missing\n",
    "    - the animal is missing after being placed in a foster home\n",
    "- In-Kennel Missing\n",
    "    - the animal is missing after being transferred to a kennel facility\n",
    "- Possible Theft\n",
    "    - Although not confirmed, the animal went missing as a result of theft from the facility\n",
    "- Barn Transfer\n",
    "    - The animal was transferred to a facility for adoption into a barn environment\n",
    "- SNR\n",
    "    - SNR refers to the city of Austin's Shelter-Neuter-Release program. I believe the outcome is representative of the animal being released.\n",
    "    \n",
    "### Acknowledgements\n",
    "\n",
    "The data presented here is only possible through the hard work and dedication of the Austin Animal Center in saving and caring for animal lives.\n",
    "\n",
    "# Table of Contents\n",
    "- <a href='#Data-Exploration'>Data Exploration</a>\n",
    "- <a href='#Feature-Engineering'>Feature Engineering</a>\n",
    "- <a href='#Data-Visualisation'>Data Visualisation</a>"
   ]
  }
 ],
 "metadata": {
  "kernelspec": {
   "display_name": "Python 3 (ipykernel)",
   "language": "python",
   "name": "python3"
  },
  "language_info": {
   "codemirror_mode": {
    "name": "ipython",
    "version": 3
   },
   "file_extension": ".py",
   "mimetype": "text/x-python",
   "name": "python",
   "nbconvert_exporter": "python",
   "pygments_lexer": "ipython3",
   "version": "3.9.12"
  }
 },
 "nbformat": 4,
 "nbformat_minor": 5
}
