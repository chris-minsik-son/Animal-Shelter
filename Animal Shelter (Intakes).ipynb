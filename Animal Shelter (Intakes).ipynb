{
 "cells": [
  {
   "cell_type": "markdown",
   "id": "4451dd85",
   "metadata": {},
   "source": [
    "# Austin Animal Center Shelter Intakes and Outcomes\n",
    "\n",
    "## About Dataset\n",
    "\n",
    "### Context\n",
    "The [Austin Animal Center](https://www.austintexas.gov/austin-animal-center) is the largest no-kill animal shelter in the United States that provides care and shelter to over 18,000 animals each year. As part of the AAC's efforts to help and care for animals in need, the organization makes available its accumulated data and statistics as part of the city of Austin's Open Data Initiative.\n",
    "\n",
    "### Content\n",
    "The data contains intakes and outcomes of animals entering the Austin Animal Center from the beginning of October 2013 to the present day. The datasets are also freely available on the Socrata Open Data Access API and are updated daily.\n",
    "\n",
    "The following are links to the datasets hosted on Socrata's Open Data:\n",
    "\n",
    "- [Austin Animal Center Intakes](https://data.austintexas.gov/Health-and-Community-Services/Austin-Animal-Center-Intakes/wter-evkm)\n",
    "- [Austin Animal Center Outcomes](https://data.austintexas.gov/Health-and-Community-Services/Austin-Animal-Center-Outcomes/9t4d-g238)\n",
    "\n",
    "The data contained in this dataset is the outcomes and intakes data as noted above, as well as a combined dataset. The merging of the outcomes and intakes data was done on a unique key that is a combination of the given Animal ID and the intake number. Several of the animals in the dataset have been taken into the shelter multiple times, which creates duplicate Animal IDs that causes problems when merging the two datasets.\n",
    "\n",
    "Copied from the description of the Shelter Outcomes dataset, here are some definitions of the outcome types:\n",
    "\n",
    "- Adoption\n",
    "    - the animal was adopted to a home\n",
    "- Barn Adoption\n",
    "    - the animal was adopted to live in a barn\n",
    "- Offsite Missing\n",
    "    - the animal went missing for unknown reasons at an offsite partner location\n",
    "- In-Foster Missing\n",
    "    - the animal is missing after being placed in a foster home\n",
    "- In-Kennel Missing\n",
    "    - the animal is missing after being transferred to a kennel facility\n",
    "- Possible Theft\n",
    "    - Although not confirmed, the animal went missing as a result of theft from the facility\n",
    "- Barn Transfer\n",
    "    - The animal was transferred to a facility for adoption into a barn environment\n",
    "- SNR\n",
    "    - SNR refers to the city of Austin's Shelter-Neuter-Release program. I believe the outcome is representative of the animal being released.\n",
    "    \n",
    "### Acknowledgements\n",
    "\n",
    "The data presented here is only possible through the hard work and dedication of the Austin Animal Center in saving and caring for animal lives.\n",
    "\n",
    "# Table of Contents\n",
    "- <a href='#Data-Exploration'>Data Exploration</a>\n",
    "- <a href='#Feature-Engineering'>Feature Engineering</a>\n",
    "- <a href='#Data-Visualisation'>Data Visualisation</a>"
   ]
  },
  {
   "cell_type": "markdown",
   "id": "655dcb5e",
   "metadata": {},
   "source": [
    "# Data Exploration"
   ]
  },
  {
   "cell_type": "code",
   "execution_count": 1,
   "id": "447b63b9",
   "metadata": {},
   "outputs": [
    {
     "data": {
      "text/html": [
       "<div>\n",
       "<style scoped>\n",
       "    .dataframe tbody tr th:only-of-type {\n",
       "        vertical-align: middle;\n",
       "    }\n",
       "\n",
       "    .dataframe tbody tr th {\n",
       "        vertical-align: top;\n",
       "    }\n",
       "\n",
       "    .dataframe thead th {\n",
       "        text-align: right;\n",
       "    }\n",
       "</style>\n",
       "<table border=\"1\" class=\"dataframe\">\n",
       "  <thead>\n",
       "    <tr style=\"text-align: right;\">\n",
       "      <th></th>\n",
       "      <th>age_upon_intake</th>\n",
       "      <th>animal_id</th>\n",
       "      <th>animal_type</th>\n",
       "      <th>breed</th>\n",
       "      <th>color</th>\n",
       "      <th>datetime</th>\n",
       "      <th>datetime2</th>\n",
       "      <th>found_location</th>\n",
       "      <th>intake_condition</th>\n",
       "      <th>intake_type</th>\n",
       "      <th>name</th>\n",
       "      <th>sex_upon_intake</th>\n",
       "    </tr>\n",
       "  </thead>\n",
       "  <tbody>\n",
       "    <tr>\n",
       "      <th>0</th>\n",
       "      <td>8 years</td>\n",
       "      <td>A706918</td>\n",
       "      <td>Dog</td>\n",
       "      <td>English Springer Spaniel</td>\n",
       "      <td>White/Liver</td>\n",
       "      <td>2015-07-05T12:59:00.000</td>\n",
       "      <td>2015-07-05T12:59:00.000</td>\n",
       "      <td>9409 Bluegrass Dr in Austin (TX)</td>\n",
       "      <td>Normal</td>\n",
       "      <td>Stray</td>\n",
       "      <td>Belle</td>\n",
       "      <td>Spayed Female</td>\n",
       "    </tr>\n",
       "    <tr>\n",
       "      <th>1</th>\n",
       "      <td>11 months</td>\n",
       "      <td>A724273</td>\n",
       "      <td>Dog</td>\n",
       "      <td>Basenji Mix</td>\n",
       "      <td>Sable/White</td>\n",
       "      <td>2016-04-14T18:43:00.000</td>\n",
       "      <td>2016-04-14T18:43:00.000</td>\n",
       "      <td>2818 Palomino Trail in Austin (TX)</td>\n",
       "      <td>Normal</td>\n",
       "      <td>Stray</td>\n",
       "      <td>Runster</td>\n",
       "      <td>Intact Male</td>\n",
       "    </tr>\n",
       "    <tr>\n",
       "      <th>2</th>\n",
       "      <td>4 weeks</td>\n",
       "      <td>A665644</td>\n",
       "      <td>Cat</td>\n",
       "      <td>Domestic Shorthair Mix</td>\n",
       "      <td>Calico</td>\n",
       "      <td>2013-10-21T07:59:00.000</td>\n",
       "      <td>2013-10-21T07:59:00.000</td>\n",
       "      <td>Austin (TX)</td>\n",
       "      <td>Sick</td>\n",
       "      <td>Stray</td>\n",
       "      <td>NaN</td>\n",
       "      <td>Intact Female</td>\n",
       "    </tr>\n",
       "    <tr>\n",
       "      <th>3</th>\n",
       "      <td>4 years</td>\n",
       "      <td>A682524</td>\n",
       "      <td>Dog</td>\n",
       "      <td>Doberman Pinsch/Australian Cattle Dog</td>\n",
       "      <td>Tan/Gray</td>\n",
       "      <td>2014-06-29T10:38:00.000</td>\n",
       "      <td>2014-06-29T10:38:00.000</td>\n",
       "      <td>800 Grove Blvd in Austin (TX)</td>\n",
       "      <td>Normal</td>\n",
       "      <td>Stray</td>\n",
       "      <td>Rio</td>\n",
       "      <td>Neutered Male</td>\n",
       "    </tr>\n",
       "    <tr>\n",
       "      <th>4</th>\n",
       "      <td>2 years</td>\n",
       "      <td>A743852</td>\n",
       "      <td>Dog</td>\n",
       "      <td>Labrador Retriever Mix</td>\n",
       "      <td>Chocolate</td>\n",
       "      <td>2017-02-18T12:46:00.000</td>\n",
       "      <td>2017-02-18T12:46:00.000</td>\n",
       "      <td>Austin (TX)</td>\n",
       "      <td>Normal</td>\n",
       "      <td>Owner Surrender</td>\n",
       "      <td>Odin</td>\n",
       "      <td>Neutered Male</td>\n",
       "    </tr>\n",
       "    <tr>\n",
       "      <th>5</th>\n",
       "      <td>2 years</td>\n",
       "      <td>A708452</td>\n",
       "      <td>Dog</td>\n",
       "      <td>Labrador Retriever Mix</td>\n",
       "      <td>Black/White</td>\n",
       "      <td>2015-07-30T14:37:00.000</td>\n",
       "      <td>2015-07-30T14:37:00.000</td>\n",
       "      <td>Austin (TX)</td>\n",
       "      <td>Normal</td>\n",
       "      <td>Public Assist</td>\n",
       "      <td>Mumble</td>\n",
       "      <td>Intact Male</td>\n",
       "    </tr>\n",
       "    <tr>\n",
       "      <th>6</th>\n",
       "      <td>5 months</td>\n",
       "      <td>A731435</td>\n",
       "      <td>Cat</td>\n",
       "      <td>Domestic Shorthair Mix</td>\n",
       "      <td>Cream Tabby</td>\n",
       "      <td>2016-08-08T17:52:00.000</td>\n",
       "      <td>2016-08-08T17:52:00.000</td>\n",
       "      <td>Austin (TX)</td>\n",
       "      <td>Normal</td>\n",
       "      <td>Owner Surrender</td>\n",
       "      <td>*Casey</td>\n",
       "      <td>Neutered Male</td>\n",
       "    </tr>\n",
       "    <tr>\n",
       "      <th>7</th>\n",
       "      <td>2 years</td>\n",
       "      <td>A760053</td>\n",
       "      <td>Dog</td>\n",
       "      <td>Chihuahua Shorthair</td>\n",
       "      <td>White/Tan</td>\n",
       "      <td>2017-10-11T15:46:00.000</td>\n",
       "      <td>2017-10-11T15:46:00.000</td>\n",
       "      <td>8800 South First Street in Austin (TX)</td>\n",
       "      <td>Normal</td>\n",
       "      <td>Stray</td>\n",
       "      <td>NaN</td>\n",
       "      <td>Intact Male</td>\n",
       "    </tr>\n",
       "    <tr>\n",
       "      <th>8</th>\n",
       "      <td>5 months</td>\n",
       "      <td>A707375</td>\n",
       "      <td>Dog</td>\n",
       "      <td>Pit Bull</td>\n",
       "      <td>Brown/White</td>\n",
       "      <td>2015-07-11T18:19:00.000</td>\n",
       "      <td>2015-07-11T18:19:00.000</td>\n",
       "      <td>Galilee Court And Damita Jo Dr in Manor (TX)</td>\n",
       "      <td>Normal</td>\n",
       "      <td>Stray</td>\n",
       "      <td>*Candy Cane</td>\n",
       "      <td>Intact Female</td>\n",
       "    </tr>\n",
       "    <tr>\n",
       "      <th>9</th>\n",
       "      <td>2 years</td>\n",
       "      <td>A696408</td>\n",
       "      <td>Dog</td>\n",
       "      <td>Chihuahua Shorthair</td>\n",
       "      <td>Tricolor</td>\n",
       "      <td>2015-02-04T12:58:00.000</td>\n",
       "      <td>2015-02-04T12:58:00.000</td>\n",
       "      <td>9705 Thaxton in Austin (TX)</td>\n",
       "      <td>Normal</td>\n",
       "      <td>Stray</td>\n",
       "      <td>*Pearl</td>\n",
       "      <td>Intact Female</td>\n",
       "    </tr>\n",
       "  </tbody>\n",
       "</table>\n",
       "</div>"
      ],
      "text/plain": [
       "  age_upon_intake animal_id animal_type  \\\n",
       "0         8 years   A706918         Dog   \n",
       "1       11 months   A724273         Dog   \n",
       "2         4 weeks   A665644         Cat   \n",
       "3         4 years   A682524         Dog   \n",
       "4         2 years   A743852         Dog   \n",
       "5         2 years   A708452         Dog   \n",
       "6        5 months   A731435         Cat   \n",
       "7         2 years   A760053         Dog   \n",
       "8        5 months   A707375         Dog   \n",
       "9         2 years   A696408         Dog   \n",
       "\n",
       "                                   breed        color  \\\n",
       "0               English Springer Spaniel  White/Liver   \n",
       "1                            Basenji Mix  Sable/White   \n",
       "2                 Domestic Shorthair Mix       Calico   \n",
       "3  Doberman Pinsch/Australian Cattle Dog     Tan/Gray   \n",
       "4                 Labrador Retriever Mix    Chocolate   \n",
       "5                 Labrador Retriever Mix  Black/White   \n",
       "6                 Domestic Shorthair Mix  Cream Tabby   \n",
       "7                    Chihuahua Shorthair    White/Tan   \n",
       "8                               Pit Bull  Brown/White   \n",
       "9                    Chihuahua Shorthair     Tricolor   \n",
       "\n",
       "                  datetime                datetime2  \\\n",
       "0  2015-07-05T12:59:00.000  2015-07-05T12:59:00.000   \n",
       "1  2016-04-14T18:43:00.000  2016-04-14T18:43:00.000   \n",
       "2  2013-10-21T07:59:00.000  2013-10-21T07:59:00.000   \n",
       "3  2014-06-29T10:38:00.000  2014-06-29T10:38:00.000   \n",
       "4  2017-02-18T12:46:00.000  2017-02-18T12:46:00.000   \n",
       "5  2015-07-30T14:37:00.000  2015-07-30T14:37:00.000   \n",
       "6  2016-08-08T17:52:00.000  2016-08-08T17:52:00.000   \n",
       "7  2017-10-11T15:46:00.000  2017-10-11T15:46:00.000   \n",
       "8  2015-07-11T18:19:00.000  2015-07-11T18:19:00.000   \n",
       "9  2015-02-04T12:58:00.000  2015-02-04T12:58:00.000   \n",
       "\n",
       "                                 found_location intake_condition  \\\n",
       "0              9409 Bluegrass Dr in Austin (TX)           Normal   \n",
       "1            2818 Palomino Trail in Austin (TX)           Normal   \n",
       "2                                   Austin (TX)             Sick   \n",
       "3                 800 Grove Blvd in Austin (TX)           Normal   \n",
       "4                                   Austin (TX)           Normal   \n",
       "5                                   Austin (TX)           Normal   \n",
       "6                                   Austin (TX)           Normal   \n",
       "7        8800 South First Street in Austin (TX)           Normal   \n",
       "8  Galilee Court And Damita Jo Dr in Manor (TX)           Normal   \n",
       "9                   9705 Thaxton in Austin (TX)           Normal   \n",
       "\n",
       "       intake_type         name sex_upon_intake  \n",
       "0            Stray        Belle   Spayed Female  \n",
       "1            Stray      Runster     Intact Male  \n",
       "2            Stray          NaN   Intact Female  \n",
       "3            Stray          Rio   Neutered Male  \n",
       "4  Owner Surrender         Odin   Neutered Male  \n",
       "5    Public Assist       Mumble     Intact Male  \n",
       "6  Owner Surrender       *Casey   Neutered Male  \n",
       "7            Stray          NaN     Intact Male  \n",
       "8            Stray  *Candy Cane   Intact Female  \n",
       "9            Stray       *Pearl   Intact Female  "
      ]
     },
     "execution_count": 1,
     "metadata": {},
     "output_type": "execute_result"
    }
   ],
   "source": [
    "import pandas as pd\n",
    "import numpy as np\n",
    "\n",
    "data = pd.read_csv(\"aac_intakes.csv\")\n",
    "data.head(10)"
   ]
  },
  {
   "cell_type": "code",
   "execution_count": 2,
   "id": "87d22fd8",
   "metadata": {},
   "outputs": [
    {
     "data": {
      "text/html": [
       "<div>\n",
       "<style scoped>\n",
       "    .dataframe tbody tr th:only-of-type {\n",
       "        vertical-align: middle;\n",
       "    }\n",
       "\n",
       "    .dataframe tbody tr th {\n",
       "        vertical-align: top;\n",
       "    }\n",
       "\n",
       "    .dataframe thead th {\n",
       "        text-align: right;\n",
       "    }\n",
       "</style>\n",
       "<table border=\"1\" class=\"dataframe\">\n",
       "  <thead>\n",
       "    <tr style=\"text-align: right;\">\n",
       "      <th></th>\n",
       "      <th>age_upon_intake</th>\n",
       "      <th>animal_id</th>\n",
       "      <th>animal_type</th>\n",
       "      <th>breed</th>\n",
       "      <th>color</th>\n",
       "      <th>datetime</th>\n",
       "      <th>datetime2</th>\n",
       "      <th>found_location</th>\n",
       "      <th>intake_condition</th>\n",
       "      <th>intake_type</th>\n",
       "      <th>name</th>\n",
       "      <th>sex_upon_intake</th>\n",
       "    </tr>\n",
       "  </thead>\n",
       "  <tbody>\n",
       "    <tr>\n",
       "      <th>2</th>\n",
       "      <td>4 weeks</td>\n",
       "      <td>A665644</td>\n",
       "      <td>Cat</td>\n",
       "      <td>Domestic Shorthair Mix</td>\n",
       "      <td>Calico</td>\n",
       "      <td>2013-10-21T07:59:00.000</td>\n",
       "      <td>2013-10-21T07:59:00.000</td>\n",
       "      <td>Austin (TX)</td>\n",
       "      <td>Sick</td>\n",
       "      <td>Stray</td>\n",
       "      <td>NaN</td>\n",
       "      <td>Intact Female</td>\n",
       "    </tr>\n",
       "    <tr>\n",
       "      <th>7</th>\n",
       "      <td>2 years</td>\n",
       "      <td>A760053</td>\n",
       "      <td>Dog</td>\n",
       "      <td>Chihuahua Shorthair</td>\n",
       "      <td>White/Tan</td>\n",
       "      <td>2017-10-11T15:46:00.000</td>\n",
       "      <td>2017-10-11T15:46:00.000</td>\n",
       "      <td>8800 South First Street in Austin (TX)</td>\n",
       "      <td>Normal</td>\n",
       "      <td>Stray</td>\n",
       "      <td>NaN</td>\n",
       "      <td>Intact Male</td>\n",
       "    </tr>\n",
       "    <tr>\n",
       "      <th>10</th>\n",
       "      <td>2 years</td>\n",
       "      <td>A743114</td>\n",
       "      <td>Cat</td>\n",
       "      <td>Domestic Shorthair Mix</td>\n",
       "      <td>Black/White</td>\n",
       "      <td>2017-02-04T10:10:00.000</td>\n",
       "      <td>2017-02-04T10:10:00.000</td>\n",
       "      <td>208 Beaver St in Austin (TX)</td>\n",
       "      <td>Injured</td>\n",
       "      <td>Stray</td>\n",
       "      <td>NaN</td>\n",
       "      <td>Intact Female</td>\n",
       "    </tr>\n",
       "    <tr>\n",
       "      <th>14</th>\n",
       "      <td>2 months</td>\n",
       "      <td>A697950</td>\n",
       "      <td>Dog</td>\n",
       "      <td>Australian Cattle Dog/Labrador Retriever</td>\n",
       "      <td>Tan/White</td>\n",
       "      <td>2015-03-04T11:22:00.000</td>\n",
       "      <td>2015-03-04T11:22:00.000</td>\n",
       "      <td>1501 S Fm 973 in Austin (TX)</td>\n",
       "      <td>Normal</td>\n",
       "      <td>Stray</td>\n",
       "      <td>NaN</td>\n",
       "      <td>Intact Female</td>\n",
       "    </tr>\n",
       "    <tr>\n",
       "      <th>17</th>\n",
       "      <td>5 months</td>\n",
       "      <td>A682230</td>\n",
       "      <td>Dog</td>\n",
       "      <td>Maltese Mix</td>\n",
       "      <td>White</td>\n",
       "      <td>2014-06-25T16:27:00.000</td>\n",
       "      <td>2014-06-25T16:27:00.000</td>\n",
       "      <td>3737 Keats Dr in Austin (TX)</td>\n",
       "      <td>Normal</td>\n",
       "      <td>Stray</td>\n",
       "      <td>NaN</td>\n",
       "      <td>Intact Female</td>\n",
       "    </tr>\n",
       "    <tr>\n",
       "      <th>...</th>\n",
       "      <td>...</td>\n",
       "      <td>...</td>\n",
       "      <td>...</td>\n",
       "      <td>...</td>\n",
       "      <td>...</td>\n",
       "      <td>...</td>\n",
       "      <td>...</td>\n",
       "      <td>...</td>\n",
       "      <td>...</td>\n",
       "      <td>...</td>\n",
       "      <td>...</td>\n",
       "      <td>...</td>\n",
       "    </tr>\n",
       "    <tr>\n",
       "      <th>80178</th>\n",
       "      <td>4 years</td>\n",
       "      <td>A722721</td>\n",
       "      <td>Cat</td>\n",
       "      <td>Domestic Shorthair Mix</td>\n",
       "      <td>Black</td>\n",
       "      <td>2018-03-29T17:54:00.000</td>\n",
       "      <td>2018-03-29T17:54:00.000</td>\n",
       "      <td>1601 Royal Crest Drive in Austin (TX)</td>\n",
       "      <td>Normal</td>\n",
       "      <td>Stray</td>\n",
       "      <td>NaN</td>\n",
       "      <td>Spayed Female</td>\n",
       "    </tr>\n",
       "    <tr>\n",
       "      <th>80181</th>\n",
       "      <td>1 year</td>\n",
       "      <td>A769065</td>\n",
       "      <td>Other</td>\n",
       "      <td>Bat Mix</td>\n",
       "      <td>Brown</td>\n",
       "      <td>2018-03-29T17:19:00.000</td>\n",
       "      <td>2018-03-29T17:19:00.000</td>\n",
       "      <td>1122 Walton Ln in Austin (TX)</td>\n",
       "      <td>Normal</td>\n",
       "      <td>Wildlife</td>\n",
       "      <td>NaN</td>\n",
       "      <td>Unknown</td>\n",
       "    </tr>\n",
       "    <tr>\n",
       "      <th>80182</th>\n",
       "      <td>10 years</td>\n",
       "      <td>A769067</td>\n",
       "      <td>Dog</td>\n",
       "      <td>Boxer Mix</td>\n",
       "      <td>Brown Brindle</td>\n",
       "      <td>2018-03-29T18:20:00.000</td>\n",
       "      <td>2018-03-29T18:20:00.000</td>\n",
       "      <td>11216 Jollyville Rd 216 in Austin (TX)</td>\n",
       "      <td>Aged</td>\n",
       "      <td>Stray</td>\n",
       "      <td>NaN</td>\n",
       "      <td>Spayed Female</td>\n",
       "    </tr>\n",
       "    <tr>\n",
       "      <th>80183</th>\n",
       "      <td>5 years</td>\n",
       "      <td>A768934</td>\n",
       "      <td>Dog</td>\n",
       "      <td>Dachshund Wirehair/Chihuahua Shorthair</td>\n",
       "      <td>Chocolate/White</td>\n",
       "      <td>2018-03-27T14:27:00.000</td>\n",
       "      <td>2018-03-27T14:27:00.000</td>\n",
       "      <td>603 West Johanna Street in Austin (TX)</td>\n",
       "      <td>Normal</td>\n",
       "      <td>Stray</td>\n",
       "      <td>NaN</td>\n",
       "      <td>Intact Male</td>\n",
       "    </tr>\n",
       "    <tr>\n",
       "      <th>80184</th>\n",
       "      <td>2 years</td>\n",
       "      <td>A769064</td>\n",
       "      <td>Other</td>\n",
       "      <td>Bat Mix</td>\n",
       "      <td>Brown</td>\n",
       "      <td>2018-03-29T17:13:00.000</td>\n",
       "      <td>2018-03-29T17:13:00.000</td>\n",
       "      <td>2519 Scarbrough Dr in Travis (TX)</td>\n",
       "      <td>Normal</td>\n",
       "      <td>Wildlife</td>\n",
       "      <td>NaN</td>\n",
       "      <td>Unknown</td>\n",
       "    </tr>\n",
       "  </tbody>\n",
       "</table>\n",
       "<p>24585 rows × 12 columns</p>\n",
       "</div>"
      ],
      "text/plain": [
       "      age_upon_intake animal_id animal_type  \\\n",
       "2             4 weeks   A665644         Cat   \n",
       "7             2 years   A760053         Dog   \n",
       "10            2 years   A743114         Cat   \n",
       "14           2 months   A697950         Dog   \n",
       "17           5 months   A682230         Dog   \n",
       "...               ...       ...         ...   \n",
       "80178         4 years   A722721         Cat   \n",
       "80181          1 year   A769065       Other   \n",
       "80182        10 years   A769067         Dog   \n",
       "80183         5 years   A768934         Dog   \n",
       "80184         2 years   A769064       Other   \n",
       "\n",
       "                                          breed            color  \\\n",
       "2                        Domestic Shorthair Mix           Calico   \n",
       "7                           Chihuahua Shorthair        White/Tan   \n",
       "10                       Domestic Shorthair Mix      Black/White   \n",
       "14     Australian Cattle Dog/Labrador Retriever        Tan/White   \n",
       "17                                  Maltese Mix            White   \n",
       "...                                         ...              ...   \n",
       "80178                    Domestic Shorthair Mix            Black   \n",
       "80181                                   Bat Mix            Brown   \n",
       "80182                                 Boxer Mix    Brown Brindle   \n",
       "80183    Dachshund Wirehair/Chihuahua Shorthair  Chocolate/White   \n",
       "80184                                   Bat Mix            Brown   \n",
       "\n",
       "                      datetime                datetime2  \\\n",
       "2      2013-10-21T07:59:00.000  2013-10-21T07:59:00.000   \n",
       "7      2017-10-11T15:46:00.000  2017-10-11T15:46:00.000   \n",
       "10     2017-02-04T10:10:00.000  2017-02-04T10:10:00.000   \n",
       "14     2015-03-04T11:22:00.000  2015-03-04T11:22:00.000   \n",
       "17     2014-06-25T16:27:00.000  2014-06-25T16:27:00.000   \n",
       "...                        ...                      ...   \n",
       "80178  2018-03-29T17:54:00.000  2018-03-29T17:54:00.000   \n",
       "80181  2018-03-29T17:19:00.000  2018-03-29T17:19:00.000   \n",
       "80182  2018-03-29T18:20:00.000  2018-03-29T18:20:00.000   \n",
       "80183  2018-03-27T14:27:00.000  2018-03-27T14:27:00.000   \n",
       "80184  2018-03-29T17:13:00.000  2018-03-29T17:13:00.000   \n",
       "\n",
       "                               found_location intake_condition intake_type  \\\n",
       "2                                 Austin (TX)             Sick       Stray   \n",
       "7      8800 South First Street in Austin (TX)           Normal       Stray   \n",
       "10               208 Beaver St in Austin (TX)          Injured       Stray   \n",
       "14               1501 S Fm 973 in Austin (TX)           Normal       Stray   \n",
       "17               3737 Keats Dr in Austin (TX)           Normal       Stray   \n",
       "...                                       ...              ...         ...   \n",
       "80178   1601 Royal Crest Drive in Austin (TX)           Normal       Stray   \n",
       "80181           1122 Walton Ln in Austin (TX)           Normal    Wildlife   \n",
       "80182  11216 Jollyville Rd 216 in Austin (TX)             Aged       Stray   \n",
       "80183  603 West Johanna Street in Austin (TX)           Normal       Stray   \n",
       "80184       2519 Scarbrough Dr in Travis (TX)           Normal    Wildlife   \n",
       "\n",
       "      name sex_upon_intake  \n",
       "2      NaN   Intact Female  \n",
       "7      NaN     Intact Male  \n",
       "10     NaN   Intact Female  \n",
       "14     NaN   Intact Female  \n",
       "17     NaN   Intact Female  \n",
       "...    ...             ...  \n",
       "80178  NaN   Spayed Female  \n",
       "80181  NaN         Unknown  \n",
       "80182  NaN   Spayed Female  \n",
       "80183  NaN     Intact Male  \n",
       "80184  NaN         Unknown  \n",
       "\n",
       "[24585 rows x 12 columns]"
      ]
     },
     "execution_count": 2,
     "metadata": {},
     "output_type": "execute_result"
    }
   ],
   "source": [
    "data[data.isna().any(axis=1)]"
   ]
  },
  {
   "cell_type": "markdown",
   "id": "36e1627d",
   "metadata": {},
   "source": [
    "We can see below that there are **24,584** NaN values in the column 'name' and **1** NaN value in the column 'sex_upon_intake'."
   ]
  },
  {
   "cell_type": "code",
   "execution_count": 3,
   "id": "1c68f486",
   "metadata": {},
   "outputs": [
    {
     "data": {
      "text/plain": [
       "age_upon_intake         0\n",
       "animal_id               0\n",
       "animal_type             0\n",
       "breed                   0\n",
       "color                   0\n",
       "datetime                0\n",
       "datetime2               0\n",
       "found_location          0\n",
       "intake_condition        0\n",
       "intake_type             0\n",
       "name                24584\n",
       "sex_upon_intake         1\n",
       "dtype: int64"
      ]
     },
     "execution_count": 3,
     "metadata": {},
     "output_type": "execute_result"
    }
   ],
   "source": [
    "data.isna().sum()"
   ]
  },
  {
   "cell_type": "markdown",
   "id": "70bcec1a",
   "metadata": {},
   "source": [
    "Since there is only one row that contains a NULL value for *sex_upon_intake*, we will just remove this from the overall dataset."
   ]
  },
  {
   "cell_type": "code",
   "execution_count": 4,
   "id": "a180798a",
   "metadata": {},
   "outputs": [],
   "source": [
    "data = data[data['sex_upon_intake'].notna()]"
   ]
  },
  {
   "cell_type": "code",
   "execution_count": 5,
   "id": "c11aa88a",
   "metadata": {},
   "outputs": [
    {
     "data": {
      "text/plain": [
       "age_upon_intake         0\n",
       "animal_id               0\n",
       "animal_type             0\n",
       "breed                   0\n",
       "color                   0\n",
       "datetime                0\n",
       "datetime2               0\n",
       "found_location          0\n",
       "intake_condition        0\n",
       "intake_type             0\n",
       "name                24584\n",
       "sex_upon_intake         0\n",
       "dtype: int64"
      ]
     },
     "execution_count": 5,
     "metadata": {},
     "output_type": "execute_result"
    }
   ],
   "source": [
    "data.isna().sum()"
   ]
  },
  {
   "cell_type": "markdown",
   "id": "cc209efa",
   "metadata": {},
   "source": [
    "Specifically, out of the 80,186 entries in our dataset, 24,584 of these entries are NaN in the 'name' column. This means that **30.7%** of our entries have NaN values in the column 'name'."
   ]
  },
  {
   "cell_type": "code",
   "execution_count": 6,
   "id": "9dd9ce63",
   "metadata": {},
   "outputs": [
    {
     "data": {
      "text/plain": [
       "80186"
      ]
     },
     "execution_count": 6,
     "metadata": {},
     "output_type": "execute_result"
    }
   ],
   "source": [
    "len(data)"
   ]
  },
  {
   "cell_type": "markdown",
   "id": "74ee5dd1",
   "metadata": {},
   "source": [
    "Note that there are duplicate entries for a given *animal_id*. This suggests that the animal may have been returned to the shelter several times."
   ]
  },
  {
   "cell_type": "code",
   "execution_count": 8,
   "id": "216bd30b",
   "metadata": {},
   "outputs": [
    {
     "data": {
      "text/plain": [
       "animal_id\n",
       "A721033    13\n",
       "A718223    11\n",
       "A706536    11\n",
       "A716018     9\n",
       "A694501     8\n",
       "A738324     8\n",
       "A616444     8\n",
       "A670612     7\n",
       "A701901     7\n",
       "A678294     7\n",
       "dtype: int64"
      ]
     },
     "execution_count": 8,
     "metadata": {},
     "output_type": "execute_result"
    }
   ],
   "source": [
    "data.pivot_table(columns=['animal_id'], aggfunc='size').sort_values(ascending = False).head(10)"
   ]
  },
  {
   "cell_type": "markdown",
   "id": "f4d61c93",
   "metadata": {},
   "source": [
    "# Feature Engineering"
   ]
  },
  {
   "cell_type": "code",
   "execution_count": 9,
   "id": "24bf9f9a",
   "metadata": {},
   "outputs": [
    {
     "name": "stdout",
     "output_type": "stream",
     "text": [
      "<class 'pandas.core.frame.DataFrame'>\n",
      "Int64Index: 80186 entries, 0 to 80186\n",
      "Data columns (total 12 columns):\n",
      " #   Column            Non-Null Count  Dtype \n",
      "---  ------            --------------  ----- \n",
      " 0   age_upon_intake   80186 non-null  object\n",
      " 1   animal_id         80186 non-null  object\n",
      " 2   animal_type       80186 non-null  object\n",
      " 3   breed             80186 non-null  object\n",
      " 4   color             80186 non-null  object\n",
      " 5   datetime          80186 non-null  object\n",
      " 6   datetime2         80186 non-null  object\n",
      " 7   found_location    80186 non-null  object\n",
      " 8   intake_condition  80186 non-null  object\n",
      " 9   intake_type       80186 non-null  object\n",
      " 10  name              55602 non-null  object\n",
      " 11  sex_upon_intake   80186 non-null  object\n",
      "dtypes: object(12)\n",
      "memory usage: 8.0+ MB\n"
     ]
    }
   ],
   "source": [
    "data.info()"
   ]
  },
  {
   "cell_type": "markdown",
   "id": "64f761e3",
   "metadata": {},
   "source": [
    "Converting column *'age_upon_intake'* into days:"
   ]
  },
  {
   "cell_type": "code",
   "execution_count": 10,
   "id": "6ddbce40",
   "metadata": {},
   "outputs": [],
   "source": [
    "import re\n",
    "\n",
    "regex_pattern = '(\\d+)(?:\\s)([a-z\\s]+)'\n",
    "\n",
    "for i in range(len(data)):\n",
    "    new = []\n",
    "    text = data.iloc[i,0]\n",
    "    match = re.match(regex_pattern, text)\n",
    "\n",
    "    if match.group(2)[0:3] == 'day':\n",
    "        new.append (int(match.group(1)))\n",
    "    elif match.group(2)[0:3] == 'days':\n",
    "        new.append (int(match.group(1)))\n",
    "    elif match.group(2)[0:4] == 'week':\n",
    "        new.append (int(match.group(1))*7)\n",
    "    elif match.group(2)[0:4] == 'weeks':\n",
    "        new.append (int(match.group(1))*7)\n",
    "    elif match.group(2)[0:5] == 'month':\n",
    "        new.append (int(match.group(1))*30)\n",
    "    elif match.group(2)[0:5] == 'months':\n",
    "        new.append (int(match.group(1))*30)\n",
    "    elif match.group(2)[0:5] == 'year':\n",
    "        new.append (int(match.group(1))*365)\n",
    "    elif match.group(2)[0:5] == 'years':\n",
    "        new.append (int(match.group(1))*365)\n",
    "    data.iloc[i,0] = new[0]"
   ]
  },
  {
   "cell_type": "markdown",
   "id": "04c7c8c2",
   "metadata": {},
   "source": [
    "**TO DO:** Should we create dummy variables for the following columns (shown below)? e.g. is_dog, is_cat, etc?"
   ]
  },
  {
   "cell_type": "code",
   "execution_count": 11,
   "id": "c72d4d80",
   "metadata": {},
   "outputs": [
    {
     "data": {
      "text/plain": [
       "array(['Dog', 'Cat', 'Other', 'Bird', 'Livestock'], dtype=object)"
      ]
     },
     "execution_count": 11,
     "metadata": {},
     "output_type": "execute_result"
    }
   ],
   "source": [
    "data['animal_type'].unique()"
   ]
  },
  {
   "cell_type": "code",
   "execution_count": 12,
   "id": "163ed8a7",
   "metadata": {},
   "outputs": [
    {
     "data": {
      "text/plain": [
       "array(['Normal', 'Sick', 'Injured', 'Nursing', 'Aged', 'Other', 'Feral',\n",
       "       'Pregnant'], dtype=object)"
      ]
     },
     "execution_count": 12,
     "metadata": {},
     "output_type": "execute_result"
    }
   ],
   "source": [
    "data['intake_condition'].unique()"
   ]
  },
  {
   "cell_type": "code",
   "execution_count": 13,
   "id": "cf5987de",
   "metadata": {},
   "outputs": [
    {
     "data": {
      "text/plain": [
       "array(['Stray', 'Owner Surrender', 'Public Assist', 'Wildlife',\n",
       "       'Euthanasia Request'], dtype=object)"
      ]
     },
     "execution_count": 13,
     "metadata": {},
     "output_type": "execute_result"
    }
   ],
   "source": [
    "data['intake_type'].unique()"
   ]
  },
  {
   "cell_type": "markdown",
   "id": "b6f849f6",
   "metadata": {},
   "source": [
    "**TO DO:** Perhaps we can ignore the following columns (shown below) because the number of unique breeds is just too much."
   ]
  },
  {
   "cell_type": "code",
   "execution_count": 14,
   "id": "29c11454",
   "metadata": {},
   "outputs": [
    {
     "data": {
      "text/plain": [
       "2166"
      ]
     },
     "execution_count": 14,
     "metadata": {},
     "output_type": "execute_result"
    }
   ],
   "source": [
    "len(data['breed'].unique())"
   ]
  },
  {
   "cell_type": "code",
   "execution_count": 15,
   "id": "d7aa2287",
   "metadata": {},
   "outputs": [
    {
     "data": {
      "text/plain": [
       "529"
      ]
     },
     "execution_count": 15,
     "metadata": {},
     "output_type": "execute_result"
    }
   ],
   "source": [
    "len(data['color'].unique())"
   ]
  },
  {
   "cell_type": "code",
   "execution_count": 16,
   "id": "91f45ad2",
   "metadata": {},
   "outputs": [
    {
     "data": {
      "text/plain": [
       "36772"
      ]
     },
     "execution_count": 16,
     "metadata": {},
     "output_type": "execute_result"
    }
   ],
   "source": [
    "len(data['found_location'].unique())"
   ]
  },
  {
   "cell_type": "markdown",
   "id": "ce3783a7",
   "metadata": {},
   "source": [
    "**TO DO:** (For name) If the animal has a name we can create column where has_name = 1."
   ]
  },
  {
   "cell_type": "markdown",
   "id": "ceb39343",
   "metadata": {},
   "source": [
    "**TO DO:** (For sex_upon_intake) If the animal has been modified we can create new column where modified = 1."
   ]
  },
  {
   "cell_type": "markdown",
   "id": "9f8ce942",
   "metadata": {},
   "source": [
    "# Data Visualisation"
   ]
  },
  {
   "cell_type": "markdown",
   "id": "a0c06e9f",
   "metadata": {},
   "source": [
    "To further understand the dataset, we will explore key features."
   ]
  },
  {
   "cell_type": "code",
   "execution_count": 41,
   "id": "bee60257",
   "metadata": {},
   "outputs": [],
   "source": [
    "def with_hue(plot, feature, Number_of_categories, hue_categories):\n",
    "    a = [p.get_height() for p in plot.patches]\n",
    "    patch = [p for p in plot.patches]\n",
    "    for i in range(Number_of_categories):\n",
    "        total = feature.value_counts().values[i]\n",
    "        for j in range(hue_categories):\n",
    "            percentage = '{:.1f}%'.format(100 * a[(j*Number_of_categories + i)]/total)\n",
    "            x = patch[(j*Number_of_categories + i)].get_x() + patch[(j*Number_of_categories + i)].get_width() / 2 - 0.15\n",
    "            y = patch[(j*Number_of_categories + i)].get_y() + patch[(j*Number_of_categories + i)].get_height() \n",
    "            ax.annotate(percentage, (x, y), size = 12, ha='center')\n",
    "    plt.show()\n",
    "\n",
    "def without_hue(plot, feature):\n",
    "    total = len(feature)\n",
    "    for p in ax.patches:\n",
    "        percentage = '{:.2f}%'.format(100 * p.get_height()/total)\n",
    "        x = p.get_x() + p.get_width() / 2 - 0.05\n",
    "        y = p.get_y() + p.get_height()\n",
    "        ax.annotate(percentage, (x, y), size = 12, ha='center')\n",
    "    plt.show()"
   ]
  },
  {
   "cell_type": "markdown",
   "id": "e5214278",
   "metadata": {},
   "source": [
    "The above helper functions were used to plot the graphs below: <br>\n",
    "\n",
    "**with_hue** function will plot percentages on the bar graphs if you have the 'hue' parameter in your plots. It takes the actual graph, feature, Number_of_categories in feature, and hue_categories(number of categories in hue feature) as a parameter.\n",
    "\n",
    "**without_hue** function will plot percentages on the bar graphs if you have a normal plot. It takes the actual graph and feature as a parameter.\n",
    "\n",
    "*Source:https://stackoverflow.com/questions/35692781/python-plotting-percentage-in-seaborn-bar-plot* <br>"
   ]
  },
  {
   "cell_type": "code",
   "execution_count": 42,
   "id": "0c00a752",
   "metadata": {},
   "outputs": [
    {
     "data": {
      "image/png": "[encoded data removed]",
      "text/plain": [
       "<Figure size 936x576 with 1 Axes>"
      ]
     },
     "metadata": {
      "needs_background": "light"
     },
     "output_type": "display_data"
    }
   ],
   "source": [
    "import matplotlib.pyplot as plt\n",
    "import seaborn as sns\n",
    "import warnings\n",
    "\n",
    "warnings.filterwarnings('ignore')\n",
    "\n",
    "fig, ax = plt.subplots()\n",
    "fig.set_size_inches(13, 8)\n",
    "sns.countplot('animal_type', data=data,ax=ax)\n",
    "ax.set(xlabel='Animal Type', ylabel='Count')\n",
    "without_hue(ax, data.animal_type)"
   ]
  },
  {
   "cell_type": "markdown",
   "id": "17278550",
   "metadata": {},
   "source": [
    "We observe that 'Dogs' take up a large proportion, specifically 57% of the overrall animal intakes. Followed by 'Cats' that take up 37% of the animal intakes at the shelter. We must also take into consideration, that these percentages also include animals taken in multiple times. However, the graph above still depicts the general population of the dataset regardless."
   ]
  },
  {
   "cell_type": "code",
   "execution_count": 43,
   "id": "9609824c",
   "metadata": {},
   "outputs": [
    {
     "data": {
      "image/png": "[encoded data removed]",
      "text/plain": [
       "<Figure size 936x576 with 1 Axes>"
      ]
     },
     "metadata": {
      "needs_background": "light"
     },
     "output_type": "display_data"
    }
   ],
   "source": [
    "fig, ax = plt.subplots()\n",
    "fig.set_size_inches(13, 8)\n",
    "sns.countplot('intake_condition', data=data,ax=ax)\n",
    "ax.set(xlabel='Intake Condition', ylabel='Count')\n",
    "without_hue(ax, data.intake_type)"
   ]
  },
  {
   "cell_type": "code",
   "execution_count": 25,
   "id": "20b990b4",
   "metadata": {},
   "outputs": [
    {
     "data": {
      "text/plain": [
       "[Text(0.5, 0, 'Intake Type'), Text(0, 0.5, 'Count')]"
      ]
     },
     "execution_count": 25,
     "metadata": {},
     "output_type": "execute_result"
    },
    {
     "data": {
      "image/png": "[encoded data removed]",
      "text/plain": [
       "<Figure size 936x576 with 1 Axes>"
      ]
     },
     "metadata": {
      "needs_background": "light"
     },
     "output_type": "display_data"
    }
   ],
   "source": [
    "fig, ax = plt.subplots()\n",
    "fig.set_size_inches(13, 8)\n",
    "sns.countplot('intake_type', data=data,ax=ax)\n",
    "ax.set(xlabel='Intake Type', ylabel='Count')"
   ]
  }
 ],
 "metadata": {
  "kernelspec": {
   "display_name": "Python 3 (ipykernel)",
   "language": "python",
   "name": "python3"
  },
  "language_info": {
   "codemirror_mode": {
    "name": "ipython",
    "version": 3
   },
   "file_extension": ".py",
   "mimetype": "text/x-python",
   "name": "python",
   "nbconvert_exporter": "python",
   "pygments_lexer": "ipython3",
   "version": "3.9.12"
  }
 },
 "nbformat": 4,
 "nbformat_minor": 5
}
